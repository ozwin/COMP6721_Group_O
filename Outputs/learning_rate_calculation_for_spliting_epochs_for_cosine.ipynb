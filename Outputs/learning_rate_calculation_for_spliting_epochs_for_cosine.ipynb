{
  "cells": [
    {
      "cell_type": "code",
      "execution_count": 1,
      "id": "1f5d6e24",
      "metadata": {
        "id": "1f5d6e24"
      },
      "outputs": [],
      "source": [
        "import torch.nn as nn\n",
        "import torch\n",
        "import torchvision.transforms as transforms\n",
        "from torchsummary import summary\n",
        "import torchvision\n",
        "import torchvision.transforms as transforms\n",
        "import time\n",
        "import matplotlib.pyplot as plt\n",
        "import numpy as np\n",
        "import torchvision.models as models\n",
        "from sklearn.metrics import confusion_matrix,accuracy_score,precision_score,recall_score,ConfusionMatrixDisplay\n",
        "\n",
        "\n"
      ]
    },
    {
      "cell_type": "code",
      "execution_count": 8,
      "id": "db5b52da",
      "metadata": {
        "colab": {
          "base_uri": "https://localhost:8080/"
        },
        "id": "db5b52da",
        "outputId": "a5911f1d-0be5-400d-b98f-bbdb7f1f2b89"
      },
      "outputs": [
        {
          "name": "stderr",
          "output_type": "stream",
          "text": [
            "/usr/local/lib/python3.7/dist-packages/torchvision/models/_utils.py:209: UserWarning: The parameter 'pretrained' is deprecated since 0.13 and will be removed in 0.15, please use 'weights' instead.\n",
            "  f\"The parameter '{pretrained_param}' is deprecated since 0.13 and will be removed in 0.15, \"\n",
            "/usr/local/lib/python3.7/dist-packages/torchvision/models/_utils.py:223: UserWarning: Arguments other than a weight enum or `None` for 'weights' are deprecated since 0.13 and will be removed in 0.15. The current behavior is equivalent to passing `weights=None`.\n",
            "  warnings.warn(msg)\n"
          ]
        },
        {
          "data": {
            "text/plain": [
              "11179077"
            ]
          },
          "execution_count": 8,
          "metadata": {},
          "output_type": "execute_result"
        }
      ],
      "source": [
        "# resnet18Model = ResNet_18(3, 5) \n",
        "resnet18Model=models.resnet18(pretrained=False)\n",
        "num_filters = resnet18Model.fc.in_features\n",
        "num_classes = 5 \n",
        "# 5 classes for dataset1\n",
        "resnet18Model.fc = nn.Linear(num_filters,num_classes)\n",
        "device = torch.device(\"cuda:0\" if torch.cuda.is_available() else \"cpu\")\n",
        "resnet18Model.to(device)\n",
        "# resnet18Model.load_state_dict(torch.load('/content/82-epoch-output.pt'))\n",
        "# change classes based on data set used\n",
        "def count_parameters(model):\n",
        "    return sum(p.numel() for p in model.parameters() if p.requires_grad)\n",
        "count_parameters(resnet18Model)\n",
        "# summary(model,input_size=(3,32,32))\n"
      ]
    },
    {
      "cell_type": "code",
      "execution_count": null,
      "id": "b94c59b2",
      "metadata": {
        "colab": {
          "base_uri": "https://localhost:8080/"
        },
        "id": "b94c59b2",
        "outputId": "f2613d60-2b1c-4a46-a85d-4c94e09b2408"
      },
      "outputs": [
        {
          "data": {
            "text/plain": [
              "ResNet_18(\n",
              "  (conv1): Conv2d(3, 64, kernel_size=(7, 7), stride=(2, 2), padding=(3, 3))\n",
              "  (bn1): BatchNorm2d(64, eps=1e-05, momentum=0.1, affine=True, track_running_stats=True)\n",
              "  (relu): ReLU()\n",
              "  (maxpool): MaxPool2d(kernel_size=3, stride=2, padding=1, dilation=1, ceil_mode=False)\n",
              "  (layer1): Sequential(\n",
              "    (0): ResNetBlock(\n",
              "      (conv1): Conv2d(64, 64, kernel_size=(3, 3), stride=(1, 1), padding=(1, 1))\n",
              "      (bn1): BatchNorm2d(64, eps=1e-05, momentum=0.1, affine=True, track_running_stats=True)\n",
              "      (conv2): Conv2d(64, 64, kernel_size=(3, 3), stride=(1, 1), padding=(1, 1))\n",
              "      (bn2): BatchNorm2d(64, eps=1e-05, momentum=0.1, affine=True, track_running_stats=True)\n",
              "      (relu): ReLU()\n",
              "    )\n",
              "    (1): ResNetBlock(\n",
              "      (conv1): Conv2d(64, 64, kernel_size=(3, 3), stride=(1, 1), padding=(1, 1))\n",
              "      (bn1): BatchNorm2d(64, eps=1e-05, momentum=0.1, affine=True, track_running_stats=True)\n",
              "      (conv2): Conv2d(64, 64, kernel_size=(3, 3), stride=(1, 1), padding=(1, 1))\n",
              "      (bn2): BatchNorm2d(64, eps=1e-05, momentum=0.1, affine=True, track_running_stats=True)\n",
              "      (relu): ReLU()\n",
              "    )\n",
              "  )\n",
              "  (layer2): Sequential(\n",
              "    (0): ResNetBlock(\n",
              "      (conv1): Conv2d(64, 128, kernel_size=(3, 3), stride=(2, 2), padding=(1, 1))\n",
              "      (bn1): BatchNorm2d(128, eps=1e-05, momentum=0.1, affine=True, track_running_stats=True)\n",
              "      (conv2): Conv2d(128, 128, kernel_size=(3, 3), stride=(1, 1), padding=(1, 1))\n",
              "      (bn2): BatchNorm2d(128, eps=1e-05, momentum=0.1, affine=True, track_running_stats=True)\n",
              "      (relu): ReLU()\n",
              "      (identity_downsample): Sequential(\n",
              "        (0): Conv2d(64, 128, kernel_size=(3, 3), stride=(2, 2), padding=(1, 1))\n",
              "        (1): BatchNorm2d(128, eps=1e-05, momentum=0.1, affine=True, track_running_stats=True)\n",
              "      )\n",
              "    )\n",
              "    (1): ResNetBlock(\n",
              "      (conv1): Conv2d(128, 128, kernel_size=(3, 3), stride=(1, 1), padding=(1, 1))\n",
              "      (bn1): BatchNorm2d(128, eps=1e-05, momentum=0.1, affine=True, track_running_stats=True)\n",
              "      (conv2): Conv2d(128, 128, kernel_size=(3, 3), stride=(1, 1), padding=(1, 1))\n",
              "      (bn2): BatchNorm2d(128, eps=1e-05, momentum=0.1, affine=True, track_running_stats=True)\n",
              "      (relu): ReLU()\n",
              "    )\n",
              "  )\n",
              "  (layer3): Sequential(\n",
              "    (0): ResNetBlock(\n",
              "      (conv1): Conv2d(128, 256, kernel_size=(3, 3), stride=(2, 2), padding=(1, 1))\n",
              "      (bn1): BatchNorm2d(256, eps=1e-05, momentum=0.1, affine=True, track_running_stats=True)\n",
              "      (conv2): Conv2d(256, 256, kernel_size=(3, 3), stride=(1, 1), padding=(1, 1))\n",
              "      (bn2): BatchNorm2d(256, eps=1e-05, momentum=0.1, affine=True, track_running_stats=True)\n",
              "      (relu): ReLU()\n",
              "      (identity_downsample): Sequential(\n",
              "        (0): Conv2d(128, 256, kernel_size=(3, 3), stride=(2, 2), padding=(1, 1))\n",
              "        (1): BatchNorm2d(256, eps=1e-05, momentum=0.1, affine=True, track_running_stats=True)\n",
              "      )\n",
              "    )\n",
              "    (1): ResNetBlock(\n",
              "      (conv1): Conv2d(256, 256, kernel_size=(3, 3), stride=(1, 1), padding=(1, 1))\n",
              "      (bn1): BatchNorm2d(256, eps=1e-05, momentum=0.1, affine=True, track_running_stats=True)\n",
              "      (conv2): Conv2d(256, 256, kernel_size=(3, 3), stride=(1, 1), padding=(1, 1))\n",
              "      (bn2): BatchNorm2d(256, eps=1e-05, momentum=0.1, affine=True, track_running_stats=True)\n",
              "      (relu): ReLU()\n",
              "    )\n",
              "  )\n",
              "  (layer4): Sequential(\n",
              "    (0): ResNetBlock(\n",
              "      (conv1): Conv2d(256, 512, kernel_size=(3, 3), stride=(2, 2), padding=(1, 1))\n",
              "      (bn1): BatchNorm2d(512, eps=1e-05, momentum=0.1, affine=True, track_running_stats=True)\n",
              "      (conv2): Conv2d(512, 512, kernel_size=(3, 3), stride=(1, 1), padding=(1, 1))\n",
              "      (bn2): BatchNorm2d(512, eps=1e-05, momentum=0.1, affine=True, track_running_stats=True)\n",
              "      (relu): ReLU()\n",
              "      (identity_downsample): Sequential(\n",
              "        (0): Conv2d(256, 512, kernel_size=(3, 3), stride=(2, 2), padding=(1, 1))\n",
              "        (1): BatchNorm2d(512, eps=1e-05, momentum=0.1, affine=True, track_running_stats=True)\n",
              "      )\n",
              "    )\n",
              "    (1): ResNetBlock(\n",
              "      (conv1): Conv2d(512, 512, kernel_size=(3, 3), stride=(1, 1), padding=(1, 1))\n",
              "      (bn1): BatchNorm2d(512, eps=1e-05, momentum=0.1, affine=True, track_running_stats=True)\n",
              "      (conv2): Conv2d(512, 512, kernel_size=(3, 3), stride=(1, 1), padding=(1, 1))\n",
              "      (bn2): BatchNorm2d(512, eps=1e-05, momentum=0.1, affine=True, track_running_stats=True)\n",
              "      (relu): ReLU()\n",
              "    )\n",
              "  )\n",
              "  (avgpool): AdaptiveAvgPool2d(output_size=(1, 1))\n",
              "  (fc): Linear(in_features=512, out_features=5, bias=True)\n",
              ")"
            ]
          },
          "execution_count": 8,
          "metadata": {},
          "output_type": "execute_result"
        }
      ],
      "source": [
        "\n"
      ]
    },
    {
      "cell_type": "code",
      "execution_count": 9,
      "id": "b775d6c3",
      "metadata": {
        "id": "b775d6c3"
      },
      "outputs": [],
      "source": [
        "criterion = nn.CrossEntropyLoss()\n",
        "optimizer = torch.optim.SGD(resnet18Model.parameters(), lr=0.001,momentum=0.9)\n",
        "scheduler = torch.optim.lr_scheduler.CosineAnnealingLR(optimizer, T_max=100, eta_min=0.0001)"
      ]
    },
    {
      "cell_type": "code",
      "execution_count": 10,
      "id": "10e3e6f1",
      "metadata": {
        "colab": {
          "base_uri": "https://localhost:8080/"
        },
        "id": "10e3e6f1",
        "outputId": "ec136557-4600-4e5c-b0c6-091835458638"
      },
      "outputs": [
        {
          "name": "stdout",
          "output_type": "stream",
          "text": [
            "Device: cpu\n",
            "index:1 -lr: 0.0009997779521645793\n",
            "index:2 -lr: 0.0009991120277927223\n",
            "index:3 -lr: 0.000998002884071386\n",
            "index:4 -lr: 0.000996451615591515\n",
            "index:5 -lr: 0.000994459753267812\n",
            "index:6 -lr: 0.0009920292628279098\n",
            "index:7 -lr: 0.000989162542872436\n",
            "index:8 -lr: 0.0009858624225078836\n",
            "index:9 -lr: 0.000982132158554624\n",
            "index:10 -lr: 0.0009779754323328187\n",
            "index:11 -lr: 0.0009733963460294011\n",
            "index:12 -lr: 0.0009683994186497127\n",
            "index:13 -lr: 0.000962989581557791\n",
            "index:14 -lr: 0.0009571721736097084\n",
            "index:15 -lr: 0.0009509529358847651\n",
            "index:16 -lr: 0.0009443380060197382\n",
            "index:17 -lr: 0.0009373339121517743\n",
            "index:18 -lr: 0.0009299475664759064\n",
            "index:19 -lr: 0.0009221862584235525\n",
            "index:20 -lr: 0.000914057647468726\n",
            "index:21 -lr: 0.0009055697555690602\n",
            "index:22 -lr: 0.0008967309592491047\n",
            "index:23 -lr: 0.0008875499813337064\n",
            "index:24 -lr: 0.0008780358823396348\n",
            "index:25 -lr: 0.000868198051533946\n",
            "index:26 -lr: 0.0008580461976679096\n",
            "index:27 -lr: 0.000847590339395643\n",
            "index:28 -lr: 0.0008368407953869101\n",
            "index:29 -lr: 0.0008258081741438392\n",
            "index:30 -lr: 0.0008145033635316127\n",
            "index:31 -lr: 0.0008029375200334586\n",
            "index:32 -lr: 0.0007911220577405481\n",
            "index:33 -lr: 0.0007790686370876667\n",
            "index:34 -lr: 0.0007667891533457716\n",
            "index:35 -lr: 0.0007542957248827957\n",
            "index:36 -lr: 0.0007416006812042824\n",
            "index:37 -lr: 0.0007287165507856509\n",
            "index:38 -lr: 0.0007156560487081049\n",
            "index:39 -lr: 0.0007024320641103809\n",
            "index:40 -lr: 0.0006890576474687261\n",
            "index:41 -lr: 0.0006755459977176529\n",
            "index:42 -lr: 0.0006619104492241843\n",
            "index:43 -lr: 0.0006481644586284439\n",
            "index:44 -lr: 0.0006343215915635759\n",
            "index:45 -lr: 0.0006203955092681036\n",
            "index:46 -lr: 0.0006063999551039368\n",
            "index:47 -lr: 0.0005923487409933312\n",
            "index:48 -lr: 0.0005782557337881908\n",
            "index:49 -lr: 0.0005641348415851575\n",
            "index:50 -lr: 0.0005499999999999997\n",
            "index:51 -lr: 0.000535865158414842\n",
            "index:52 -lr: 0.0005217442662118087\n",
            "index:53 -lr: 0.0005076512590066682\n",
            "index:54 -lr: 0.0004936000448960629\n",
            "index:55 -lr: 0.00047960449073189583\n",
            "index:56 -lr: 0.00046567840843642365\n",
            "index:57 -lr: 0.0004518355413715557\n",
            "index:58 -lr: 0.00043808955077581505\n",
            "index:59 -lr: 0.0004244540022823466\n",
            "index:60 -lr: 0.00041094235253127357\n",
            "index:61 -lr: 0.00039756793588961866\n",
            "index:62 -lr: 0.00038434395129189486\n",
            "index:63 -lr: 0.0003712834492143485\n",
            "index:64 -lr: 0.0003583993187957171\n",
            "index:65 -lr: 0.00034570427511720377\n",
            "index:66 -lr: 0.00033321084665422786\n",
            "index:67 -lr: 0.0003209313629123327\n",
            "index:68 -lr: 0.00030887794225945123\n",
            "index:69 -lr: 0.000297062479966541\n",
            "index:70 -lr: 0.000285496636468387\n",
            "index:71 -lr: 0.0002741918258561604\n",
            "index:72 -lr: 0.0002631592046130895\n",
            "index:73 -lr: 0.00025240966060435663\n",
            "index:74 -lr: 0.00024195380233208997\n",
            "index:75 -lr: 0.0002318019484660536\n",
            "index:76 -lr: 0.00022196411766036485\n",
            "index:77 -lr: 0.00021245001866629313\n",
            "index:78 -lr: 0.00020326904075089485\n",
            "index:79 -lr: 0.0001944302444309393\n",
            "index:80 -lr: 0.00018594235253127368\n",
            "index:81 -lr: 0.0001778137415764472\n",
            "index:82 -lr: 0.00017005243352409327\n",
            "index:83 -lr: 0.00016266608784822528\n",
            "index:84 -lr: 0.00015566199398026135\n",
            "index:85 -lr: 0.00014904706411523447\n",
            "index:86 -lr: 0.00014282782639029126\n",
            "index:87 -lr: 0.00013701041844220855\n",
            "index:88 -lr: 0.00013160058135028687\n",
            "index:89 -lr: 0.00012660365397059852\n",
            "index:90 -lr: 0.00012202456766718089\n",
            "index:91 -lr: 0.00011786784144537566\n",
            "index:92 -lr: 0.00011413757749211605\n",
            "index:93 -lr: 0.00011083745712756369\n",
            "index:94 -lr: 0.00010797073717209007\n",
            "index:95 -lr: 0.00010554024673218805\n",
            "index:96 -lr: 0.000103548384408485\n",
            "index:97 -lr: 0.000101997115928614\n",
            "index:98 -lr: 0.0001008879722072778\n",
            "index:99 -lr: 0.00010022204783542078\n",
            "index:100 -lr: 0.0001\n",
            "######## Training Finished in 0.07238626480102539 seconds ###########\n"
          ]
        }
      ],
      "source": [
        "############ Define the training loop here ###########\n",
        "device = torch.device(\"cuda:0\" if torch.cuda.is_available() else \"cpu\")\n",
        "print(\"Device: {}\".format(device))\n",
        "resnet18Model.to(device)\n",
        "num_epochs = 100\n",
        "Accuracy=[]\n",
        "total_steps = 1\n",
        "t1 = time.time()\n",
        "index=int(1)\n",
        "for epoch in range(num_epochs):\n",
        "  optimizer.step()\n",
        "  scheduler.step()\n",
        "  lr=optimizer.param_groups[0]['lr']\n",
        "  out=f'index:{index} -lr: {lr}'\n",
        "  print(out)\n",
        "  index+=1\n",
        "                            \n",
        "print(\"######## Training Finished in {} seconds ###########\".format(time.time()-t1))\n",
        "# torch.save(resnet18Model.state_dict(), \"/content/5-epoch-output.pt\")"
      ]
    }
  ],
  "metadata": {
    "accelerator": "GPU",
    "colab": {
      "provenance": []
    },
    "gpuClass": "standard",
    "kernelspec": {
      "display_name": "Python 3.10.7 64-bit",
      "language": "python",
      "name": "python3"
    },
    "language_info": {
      "codemirror_mode": {
        "name": "ipython",
        "version": 3
      },
      "file_extension": ".py",
      "mimetype": "text/x-python",
      "name": "python",
      "nbconvert_exporter": "python",
      "pygments_lexer": "ipython3",
      "version": "3.10.7"
    },
    "vscode": {
      "interpreter": {
        "hash": "27c12e6cacbf7604865d82dba11605bee4bbecd8b82f9ede11b3d85a68a54965"
      }
    }
  },
  "nbformat": 4,
  "nbformat_minor": 5
}
