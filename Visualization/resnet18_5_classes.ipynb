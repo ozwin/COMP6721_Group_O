{
 "cells": [
  {
   "cell_type": "code",
   "execution_count": 2,
   "id": "1f5d6e24",
   "metadata": {},
   "outputs": [],
   "source": [
    "import torch.nn as nn\n",
    "import torch\n",
    "import torchvision.transforms as transforms\n",
    "from torchsummary import summary\n",
    "import torchvision\n",
    "import time\n",
    "import matplotlib.pyplot as plt\n",
    "import numpy as np\n",
    "import torchvision.models as models\n",
    "from sklearn.metrics import confusion_matrix\n",
    "import pandas as pd\n",
    "import seaborn as sns\n",
    "import os\n",
    "from google.colab import files\n",
    "from google.colab import drive\n",
    "from PIL import Image\n"
   ]
  },
  {
   "cell_type": "code",
   "execution_count": null,
   "id": "e32995de",
   "metadata": {},
   "outputs": [],
   "source": [
    "drive.mount('/content/drive')\n",
    "from zipfile import ZipFile\n",
    "file_name = \"/content/drive/MyDrive/5-class.zip\"\n",
    "with ZipFile(file_name, 'r') as zip:\n",
    "  zip.extractall()\n",
    "  print('Done')\n",
    "\n",
    "image = plt.imread('/content/5-class/preprocessed-cleaned-set/train/class-1/00056e9548477cda7a885bb423cb668c.jpg')\n",
    "imageShow = plt.imshow(image)"
   ]
  },
  {
   "cell_type": "code",
   "execution_count": 3,
   "id": "db5b52da",
   "metadata": {},
   "outputs": [
    {
     "name": "stderr",
     "output_type": "stream",
     "text": [
      "c:\\Users\\ozwin\\AppData\\Local\\Programs\\Python\\Python310\\lib\\site-packages\\torchvision\\models\\_utils.py:208: UserWarning: The parameter 'pretrained' is deprecated since 0.13 and may be removed in the future, please use 'weights' instead.\n",
      "  warnings.warn(\n",
      "c:\\Users\\ozwin\\AppData\\Local\\Programs\\Python\\Python310\\lib\\site-packages\\torchvision\\models\\_utils.py:223: UserWarning: Arguments other than a weight enum or `None` for 'weights' are deprecated since 0.13 and may be removed in the future. The current behavior is equivalent to passing `weights=None`.\n",
      "  warnings.warn(msg)\n"
     ]
    },
    {
     "name": "stdout",
     "output_type": "stream",
     "text": [
      "----------------------------------------------------------------\n",
      "        Layer (type)               Output Shape         Param #\n",
      "================================================================\n",
      "            Conv2d-1         [-1, 64, 162, 162]           9,408\n",
      "       BatchNorm2d-2         [-1, 64, 162, 162]             128\n",
      "              ReLU-3         [-1, 64, 162, 162]               0\n",
      "         MaxPool2d-4           [-1, 64, 81, 81]               0\n",
      "            Conv2d-5           [-1, 64, 81, 81]          36,864\n",
      "       BatchNorm2d-6           [-1, 64, 81, 81]             128\n",
      "              ReLU-7           [-1, 64, 81, 81]               0\n",
      "            Conv2d-8           [-1, 64, 81, 81]          36,864\n",
      "       BatchNorm2d-9           [-1, 64, 81, 81]             128\n",
      "             ReLU-10           [-1, 64, 81, 81]               0\n",
      "       BasicBlock-11           [-1, 64, 81, 81]               0\n",
      "           Conv2d-12           [-1, 64, 81, 81]          36,864\n",
      "      BatchNorm2d-13           [-1, 64, 81, 81]             128\n",
      "             ReLU-14           [-1, 64, 81, 81]               0\n",
      "           Conv2d-15           [-1, 64, 81, 81]          36,864\n",
      "      BatchNorm2d-16           [-1, 64, 81, 81]             128\n",
      "             ReLU-17           [-1, 64, 81, 81]               0\n",
      "       BasicBlock-18           [-1, 64, 81, 81]               0\n",
      "           Conv2d-19          [-1, 128, 41, 41]          73,728\n",
      "      BatchNorm2d-20          [-1, 128, 41, 41]             256\n",
      "             ReLU-21          [-1, 128, 41, 41]               0\n",
      "           Conv2d-22          [-1, 128, 41, 41]         147,456\n",
      "      BatchNorm2d-23          [-1, 128, 41, 41]             256\n",
      "           Conv2d-24          [-1, 128, 41, 41]           8,192\n",
      "      BatchNorm2d-25          [-1, 128, 41, 41]             256\n",
      "             ReLU-26          [-1, 128, 41, 41]               0\n",
      "       BasicBlock-27          [-1, 128, 41, 41]               0\n",
      "           Conv2d-28          [-1, 128, 41, 41]         147,456\n",
      "      BatchNorm2d-29          [-1, 128, 41, 41]             256\n",
      "             ReLU-30          [-1, 128, 41, 41]               0\n",
      "           Conv2d-31          [-1, 128, 41, 41]         147,456\n",
      "      BatchNorm2d-32          [-1, 128, 41, 41]             256\n",
      "             ReLU-33          [-1, 128, 41, 41]               0\n",
      "       BasicBlock-34          [-1, 128, 41, 41]               0\n",
      "           Conv2d-35          [-1, 256, 21, 21]         294,912\n",
      "      BatchNorm2d-36          [-1, 256, 21, 21]             512\n",
      "             ReLU-37          [-1, 256, 21, 21]               0\n",
      "           Conv2d-38          [-1, 256, 21, 21]         589,824\n",
      "      BatchNorm2d-39          [-1, 256, 21, 21]             512\n",
      "           Conv2d-40          [-1, 256, 21, 21]          32,768\n",
      "      BatchNorm2d-41          [-1, 256, 21, 21]             512\n",
      "             ReLU-42          [-1, 256, 21, 21]               0\n",
      "       BasicBlock-43          [-1, 256, 21, 21]               0\n",
      "           Conv2d-44          [-1, 256, 21, 21]         589,824\n",
      "      BatchNorm2d-45          [-1, 256, 21, 21]             512\n",
      "             ReLU-46          [-1, 256, 21, 21]               0\n",
      "           Conv2d-47          [-1, 256, 21, 21]         589,824\n",
      "      BatchNorm2d-48          [-1, 256, 21, 21]             512\n",
      "             ReLU-49          [-1, 256, 21, 21]               0\n",
      "       BasicBlock-50          [-1, 256, 21, 21]               0\n",
      "           Conv2d-51          [-1, 512, 11, 11]       1,179,648\n",
      "      BatchNorm2d-52          [-1, 512, 11, 11]           1,024\n",
      "             ReLU-53          [-1, 512, 11, 11]               0\n",
      "           Conv2d-54          [-1, 512, 11, 11]       2,359,296\n",
      "      BatchNorm2d-55          [-1, 512, 11, 11]           1,024\n",
      "           Conv2d-56          [-1, 512, 11, 11]         131,072\n",
      "      BatchNorm2d-57          [-1, 512, 11, 11]           1,024\n",
      "             ReLU-58          [-1, 512, 11, 11]               0\n",
      "       BasicBlock-59          [-1, 512, 11, 11]               0\n",
      "           Conv2d-60          [-1, 512, 11, 11]       2,359,296\n",
      "      BatchNorm2d-61          [-1, 512, 11, 11]           1,024\n",
      "             ReLU-62          [-1, 512, 11, 11]               0\n",
      "           Conv2d-63          [-1, 512, 11, 11]       2,359,296\n",
      "      BatchNorm2d-64          [-1, 512, 11, 11]           1,024\n",
      "             ReLU-65          [-1, 512, 11, 11]               0\n",
      "       BasicBlock-66          [-1, 512, 11, 11]               0\n",
      "AdaptiveAvgPool2d-67            [-1, 512, 1, 1]               0\n",
      "           Linear-68                    [-1, 5]           2,565\n",
      "================================================================\n",
      "Total params: 11,179,077\n",
      "Trainable params: 11,179,077\n",
      "Non-trainable params: 0\n",
      "----------------------------------------------------------------\n",
      "Input size (MB): 1.20\n",
      "Forward/backward pass size (MB): 134.11\n",
      "Params size (MB): 42.64\n",
      "Estimated Total Size (MB): 177.96\n",
      "----------------------------------------------------------------\n"
     ]
    }
   ],
   "source": [
    "resnet18Model=models.resnet18(pretrained=False)\n",
    "num_filters = resnet18Model.fc.in_features\n",
    "num_classes = 5 \n",
    "resnet18Model.fc = nn.Linear(num_filters,num_classes)\n",
    "resnet18Model.load_state_dict(torch.load('/content/5-class-100-epochos-output.pt'))"
   ]
  },
  {
   "cell_type": "code",
   "execution_count": null,
   "id": "036093b9",
   "metadata": {},
   "outputs": [],
   "source": [
    "# https://ravivaishnav20.medium.com/visualizing-feature-maps-using-pytorch-12a48cd1e573\n",
    "# we will save the conv layer weights in this list\n",
    "model_weights =[]\n",
    "#we will save the 49 conv layers in this list\n",
    "conv_layers = []\n",
    "# get all the model children as list\n",
    "model_children = list(resnet18Model.children())\n",
    "#counter to keep count of the conv layers\n",
    "counter = 0\n",
    "#append all the conv layers and their respective wights to the list\n",
    "for i in range(len(model_children)):\n",
    "    if type(model_children[i]) == nn.Conv2d:\n",
    "        counter+=1\n",
    "        model_weights.append(model_children[i].weight)\n",
    "        conv_layers.append(model_children[i])\n",
    "    elif type(model_children[i]) == nn.Sequential:\n",
    "        for j in range(len(model_children[i])):\n",
    "            for child in model_children[i][j].children():\n",
    "                if type(child) == nn.Conv2d:\n",
    "                    counter+=1\n",
    "                    model_weights.append(child.weight)\n",
    "                    conv_layers.append(child)\n",
    "print(f\"Total convolution layers: {counter}\")\n",
    "print(\"conv_layers\")"
   ]
  },
  {
   "cell_type": "code",
   "execution_count": null,
   "id": "4ae18d5b",
   "metadata": {},
   "outputs": [],
   "source": [
    "device = torch.device('cuda' if torch.cuda.is_available() else 'cpu')\n",
    "model = resnet18Model.to(device)"
   ]
  },
  {
   "cell_type": "code",
   "execution_count": null,
   "id": "f4d2ae2b",
   "metadata": {},
   "outputs": [],
   "source": [
    "transform = transforms.Compose([\n",
    "    transforms.Resize((224, 224)),\n",
    "    transforms.ToTensor(),\n",
    "    transforms.Normalize(mean=0., std=1.)\n",
    "])\n",
    "\n",
    "image = Image.open(str('/content/5-class/preprocessed-cleaned-set/train/class-1/0a006d8501f3ec1dd144b9c68dc9f542.jpg'))\n",
    "plt.imshow(image)\n",
    "\n",
    "image = transform(image)\n",
    "print(f\"Image shape before: {image.shape}\")\n",
    "image = image.unsqueeze(0)\n",
    "print(f\"Image shape after: {image.shape}\")\n",
    "image = image.to(device)"
   ]
  },
  {
   "cell_type": "code",
   "execution_count": null,
   "id": "4ccc168f",
   "metadata": {},
   "outputs": [],
   "source": [
    "outputs = []\n",
    "names = []\n",
    "for layer in conv_layers[0:]:\n",
    "    image = layer(image)\n",
    "    outputs.append(image)\n",
    "    names.append(str(layer))\n",
    "print(len(outputs))\n",
    "#print feature_maps\n",
    "for feature_map in outputs:\n",
    "    print(feature_map.shape)"
   ]
  },
  {
   "cell_type": "code",
   "execution_count": null,
   "id": "fb7f8968",
   "metadata": {},
   "outputs": [],
   "source": [
    "processed = []\n",
    "for feature_map in outputs:\n",
    "    feature_map = feature_map.squeeze(0)\n",
    "    gray_scale = torch.sum(feature_map,0)\n",
    "    gray_scale = gray_scale / feature_map.shape[0]\n",
    "    processed.append(gray_scale.data.cpu().numpy())\n",
    "for fm in processed:\n",
    "    print(fm.shape)"
   ]
  },
  {
   "cell_type": "code",
   "execution_count": null,
   "id": "bc7afc2d",
   "metadata": {},
   "outputs": [],
   "source": [
    "fig = plt.figure(figsize=(30, 50))\n",
    "for i in range(len(processed)):\n",
    "    a = fig.add_subplot(5, 4, i+1)\n",
    "    imgplot = plt.imshow(processed[i])\n",
    "    a.axis(\"off\")\n",
    "    a.set_title(names[i].split('(')[0], fontsize=30)\n",
    "plt.savefig(str('feature_maps.jpg'), bbox_inches='tight')"
   ]
  },
  {
   "cell_type": "code",
   "execution_count": null,
   "id": "5905ca3b",
   "metadata": {},
   "outputs": [],
   "source": [
    "# TSNE plot"
   ]
  },
  {
   "cell_type": "code",
   "execution_count": null,
   "id": "d6699e1f",
   "metadata": {},
   "outputs": [],
   "source": [
    "# Reference from https://www.youtube.com/watch?v=z3kB3ISIPAg&list=PL3Dh_99BJkCEhE7Ri8W6aijiEqm3ZoGRq&index=4\n",
    "training_path='/content/5-classes/train'\n",
    "test_path = '/content/5-classes/test'\n",
    "def transform( batchSize, inputSize):\n",
    "\n",
    "    training_transforms = transforms.Compose([transforms.Resize((inputSize,inputSize)),transforms.ToTensor()])\n",
    "    train_dataset = torchvision.datasets.ImageFolder(root=training_path,transform = training_transforms)\n",
    "    train_Loader = torch.utils.data.DataLoader(dataset = train_dataset,batch_size=batchSize,shuffle=False)\n",
    "    mean, std = get_mean_std(train_Loader)\n",
    "\n",
    "    test_transforms = transforms.Compose([\n",
    "        transforms.Resize((inputSize,inputSize)),\n",
    "        transforms.ToTensor(),\n",
    "        transforms.Normalize(torch.Tensor(mean),torch.Tensor(std))\n",
    "    ])\n",
    "\n",
    "    test_dataset = torchvision.datasets.ImageFolder(root=test_path,transform=test_transforms)\n",
    "\n",
    "    data_loader_test = torch.utils.data.DataLoader(test_dataset, batch_size=batchSize,\n",
    "    shuffle=True,drop_last=False,num_workers=0)\n",
    "\n",
    "    return data_loader_test\n",
    "\n",
    "def get_mean_std(loader):\n",
    "    mean = 0.\n",
    "    std = 0.\n",
    "    total_images_count = 0\n",
    "    for images,_ in loader:\n",
    "        images_count_in_batch = images.size(0)\n",
    "        images =images.view(images_count_in_batch,images.size(1),-1)\n",
    "        mean+=images.mean(2).sum(0)\n",
    "        std+=images.std(2).sum(0)\n",
    "        total_images_count+=images_count_in_batch\n",
    "    mean /= total_images_count\n",
    "    std /= total_images_count\n",
    "    return mean,std\n"
   ]
  },
  {
   "cell_type": "code",
   "execution_count": null,
   "id": "be65bddb",
   "metadata": {},
   "outputs": [],
   "source": [
    "def get_representations(model, iterator):\n",
    "    model.eval()\n",
    "    outputs = []\n",
    "    intermediates = []\n",
    "    labels = []\n",
    "    with torch.no_grad():\n",
    "        for (x, y) in iterator:\n",
    "            x = x.to(device)\n",
    "            y_pred = model(x)\n",
    "            outputs.append(y_pred.cpu())\n",
    "            labels.append(y)\n",
    "        \n",
    "    outputs = torch.cat(outputs, dim = 0)\n",
    "    labels = torch.cat(labels, dim = 0)\n",
    "    return outputs, labels\n"
   ]
  },
  {
   "cell_type": "code",
   "execution_count": null,
   "id": "926fdde5",
   "metadata": {},
   "outputs": [],
   "source": [
    "test_loader = transform(32,224)"
   ]
  },
  {
   "cell_type": "code",
   "execution_count": null,
   "id": "37e06ea2",
   "metadata": {},
   "outputs": [],
   "source": [
    "X, Y = get_representations(resnet18Model, test_loader)\n",
    "print(X.shape)\n",
    "print(Y.shape)"
   ]
  },
  {
   "cell_type": "code",
   "execution_count": null,
   "id": "80a4180d",
   "metadata": {},
   "outputs": [],
   "source": [
    "from sklearn.manifold import TSNE\n",
    "X_embedded = TSNE(n_components=2, init='random').fit_transform(X)"
   ]
  },
  {
   "cell_type": "code",
   "execution_count": null,
   "id": "9d3a46c5",
   "metadata": {},
   "outputs": [],
   "source": [
    "classes=Y.cpu().detach().numpy()\n",
    "def plot_representations(data, labels):                \n",
    "    fig = plt.figure(figsize = (10, 10))\n",
    "    ax = fig.add_subplot(111)\n",
    "    colormap = np.array(['#e6194b', '#3cb44b', '#ffe119', '#4363d8', '#f58231', '#911eb4', '#46f0f0', '#f032e6', '#bcf60c', '#fabebe', '#008080', '#e6beff', '#9a6324', '#fffac8', '#800000'])\n",
    "    scatter = ax.scatter(data[:, 0], data[:, 1], c=labels,cmap='tab20')\n",
    "    plt.legend(*scatter.legend_elements(num=None),title=\"Classes\")\n",
    "    plt.title('T-SNE Visualization for 5 class dataset with Resnet 18 model')"
   ]
  },
  {
   "cell_type": "code",
   "execution_count": null,
   "id": "afec195d",
   "metadata": {},
   "outputs": [],
   "source": [
    "plot_representations(X_embedded, classes)"
   ]
  }
 ],
 "metadata": {
  "kernelspec": {
   "display_name": "Python 3.10.8 64-bit (microsoft store)",
   "language": "python",
   "name": "python3"
  },
  "language_info": {
   "codemirror_mode": {
    "name": "ipython",
    "version": 3
   },
   "file_extension": ".py",
   "mimetype": "text/x-python",
   "name": "python",
   "nbconvert_exporter": "python",
   "pygments_lexer": "ipython3",
   "version": "3.10.8"
  },
  "vscode": {
   "interpreter": {
    "hash": "7b09aa25085201113d172ec21b2171879613482346442a3be94d8c1c570d2f9e"
   }
  }
 },
 "nbformat": 4,
 "nbformat_minor": 5
}
